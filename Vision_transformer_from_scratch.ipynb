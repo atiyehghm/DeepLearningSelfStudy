{
  "nbformat": 4,
  "nbformat_minor": 0,
  "metadata": {
    "colab": {
      "provenance": [],
      "gpuType": "T4",
      "mount_file_id": "16U-HZKVwD7vSISrpQZgXEUTCSj1Fi-m-",
      "authorship_tag": "ABX9TyN7osXpR2kco2OECVIJIgi6",
      "include_colab_link": true
    },
    "kernelspec": {
      "name": "python3",
      "display_name": "Python 3"
    },
    "language_info": {
      "name": "python"
    },
    "accelerator": "GPU"
  },
  "cells": [
    {
      "cell_type": "markdown",
      "metadata": {
        "id": "view-in-github",
        "colab_type": "text"
      },
      "source": [
        "<a href=\"https://colab.research.google.com/github/atiyehghm/DeepLearningSelfStudy/blob/main/Vision_transformer_from_scratch.ipynb\" target=\"_parent\"><img src=\"https://colab.research.google.com/assets/colab-badge.svg\" alt=\"Open In Colab\"/></a>"
      ]
    },
    {
      "cell_type": "markdown",
      "source": [
        "## Vision Transformer\n",
        "\n",
        "This notebook focuses on implementing VIT for Mnist dataset.\n",
        "\n",
        "[The main article on medium](https://medium.com/@brianpulfer/vision-transformers-from-scratch-pytorch-a-step-by-step-guide-96c3313c2e0c)"
      ],
      "metadata": {
        "id": "mx6zFuzeiG0S"
      }
    },
    {
      "cell_type": "code",
      "source": [
        "! pip install tqdm"
      ],
      "metadata": {
        "colab": {
          "base_uri": "https://localhost:8080/"
        },
        "id": "og9rJ2tpigFB",
        "outputId": "9babb792-8847-4252-8dfa-254aa0e188d2"
      },
      "execution_count": 5,
      "outputs": [
        {
          "output_type": "stream",
          "name": "stdout",
          "text": [
            "Requirement already satisfied: tqdm in /usr/local/lib/python3.10/dist-packages (4.66.4)\n"
          ]
        }
      ]
    },
    {
      "cell_type": "code",
      "execution_count": 6,
      "metadata": {
        "colab": {
          "base_uri": "https://localhost:8080/"
        },
        "id": "x8Ef4FW1iAvC",
        "outputId": "aafb6421-d248-4e05-d0aa-12bc3b6a46e9"
      },
      "outputs": [
        {
          "output_type": "execute_result",
          "data": {
            "text/plain": [
              "<torch._C.Generator at 0x7bf4e81df1b0>"
            ]
          },
          "metadata": {},
          "execution_count": 6
        }
      ],
      "source": [
        "import numpy as np\n",
        "from tqdm import tqdm, trange\n",
        "\n",
        "import torch\n",
        "import torch.nn as nn\n",
        "from torch.optim import Adam\n",
        "from torch.nn import CrossEntropyLoss\n",
        "from torch.utils.data import DataLoader\n",
        "\n",
        "from torchvision.transforms import ToTensor\n",
        "from torchvision.datasets.mnist import MNIST\n",
        "\n",
        "np.random.seed(0)\n",
        "torch.manual_seed(0)"
      ]
    },
    {
      "cell_type": "markdown",
      "source": [
        "## Implementing the VIT"
      ],
      "metadata": {
        "id": "rmmakbCuqDl8"
      }
    },
    {
      "cell_type": "markdown",
      "source": [
        "![picture](https://miro.medium.com/v2/resize:fit:1400/format:webp/1*tA7xE2dQA_dfzA0Bub5TVw.png)"
      ],
      "metadata": {
        "id": "9c7KnWCtjr4W"
      }
    },
    {
      "cell_type": "code",
      "source": [
        "## Step1: patchify the image : (N, C, H, W) ---> (N, #of patches, patch dimensionality)\n",
        "## in our example which is a 28x28 image we convert it to 49 4x4 patches\n",
        "## Todo: Look for more efficient ways to do this\n",
        "\n",
        "def patchify(images, n_patches):\n",
        "  n,c, h, w = images.shape\n",
        "\n",
        "  images = images.cpu()\n",
        "  assert h==w, \"Patchify only works for square images\"\n",
        "  patch_size = h//n_patches\n",
        "  patches = np.zeros((n, n_patches**2, (c*h*w)//(n_patches**2)))\n",
        "\n",
        "  for idx, image in enumerate(images):\n",
        "    for i in range(n_patches):\n",
        "      for j in range(n_patches):\n",
        "        patch = image[:, i*patch_size:(i+1)*patch_size, j*patch_size:(j+1)*patch_size]\n",
        "        patches[idx, i*n_patches + j] = patch.flatten()\n",
        "\n",
        "  return patches"
      ],
      "metadata": {
        "id": "x6gQ2q1yjdFH"
      },
      "execution_count": 16,
      "outputs": []
    },
    {
      "cell_type": "code",
      "source": [
        "## Testing the patchify\n",
        "x = torch.randn(7, 1, 28, 28) # Dummy images\n",
        "print(patchify(x, 7).shape) # torch.Size([7, 49, 16])"
      ],
      "metadata": {
        "colab": {
          "base_uri": "https://localhost:8080/"
        },
        "id": "gIhul-7PqlWA",
        "outputId": "409712d4-417e-46bf-c97c-e87bd13c4721"
      },
      "execution_count": 17,
      "outputs": [
        {
          "output_type": "stream",
          "name": "stdout",
          "text": [
            "(7, 49, 16)\n"
          ]
        }
      ]
    },
    {
      "cell_type": "markdown",
      "source": [
        "**ABOUT V-Class TOKEN**\n",
        "\n",
        "Simply put, this is a special token that we add to our model that has the role of capturing information about the other tokens. This will happen with the MSA block (later on). When information about all other tokens will be present here, we will be able to classify the image using only this special token. The initial value of the special token (the one fed to the transformer encoder) is a parameter of the model that needs to be learned.\n",
        "\n",
        "**Postional Encoding**\n",
        "it allows the transformer to understand where is each patch in the image.\n"
      ],
      "metadata": {
        "id": "512hIIjNsp5e"
      }
    },
    {
      "cell_type": "code",
      "source": [
        "def get_positional_embeddings(seq_len, seq_dim):\n",
        "  embedding = np.zeros((seq_len, seq_dim))\n",
        "  for i in range(seq_len):\n",
        "    for j in range(seq_dim):\n",
        "      if j % 2 == 0:\n",
        "        embedding[i][j] = np.sin(i / (10000**(j/seq_dim)))\n",
        "      else:\n",
        "        embedding[i][j] = np.cos(i / (10000**((j-1)/seq_dim)))\n",
        "  return embedding"
      ],
      "metadata": {
        "id": "Gm7dV7ihqOFb"
      },
      "execution_count": 18,
      "outputs": []
    },
    {
      "cell_type": "code",
      "source": [
        "import matplotlib.pyplot as plt\n",
        "\n",
        "plt.imshow(get_positional_embeddings(100, 300), cmap=\"hot\", interpolation=\"nearest\")\n",
        "plt.show()"
      ],
      "metadata": {
        "colab": {
          "base_uri": "https://localhost:8080/",
          "height": 230
        },
        "id": "SCqnnXeGVPIY",
        "outputId": "5417c0f5-4747-4882-fa2d-d59502841f6c"
      },
      "execution_count": 19,
      "outputs": [
        {
          "output_type": "display_data",
          "data": {
            "text/plain": [
              "<Figure size 640x480 with 1 Axes>"
            ],
            "image/png": "[encoded data removed]"
          },
          "metadata": {}
        }
      ]
    },
    {
      "cell_type": "markdown",
      "source": [
        "**Multihead Self-Attention**"
      ],
      "metadata": {
        "id": "HVo0Z7h4Yavk"
      }
    },
    {
      "cell_type": "code",
      "source": [
        "class multiHeadSelfAttention(nn.Module):\n",
        "  def __init__(self, d, n_heads=2):\n",
        "    super(multiHeadSelfAttention, self).__init__()\n",
        "    self.d = d\n",
        "    self.n_heads = n_heads\n",
        "\n",
        "    assert d%n_heads == 0, f'Can\\'t divide {d} dimensions to {n_heads}!!'\n",
        "\n",
        "    self.d_head = int(d / n_heads)\n",
        "    self.q_mappings = nn.ModuleList([nn.Linear(self.d_head, self.d_head) for _ in range(self.n_heads)])\n",
        "    self.k_mappings = nn.ModuleList([nn.Linear(self.d_head, self.d_head) for _ in range(self.n_heads)])\n",
        "    self.v_mappings = nn.ModuleList([nn.Linear(self.d_head, self.d_head) for _ in range(self.n_heads)])\n",
        "\n",
        "    self.softmax = nn.Softmax(dim = -1)\n",
        "\n",
        "  def forward(self, sequences):\n",
        "        # Sequences has shape (N, seq_length, token_dim)\n",
        "        # We go into shape    (N, seq_length, n_heads, token_dim / n_heads)\n",
        "        # And come back to    (N, seq_length, item_dim)  (through concatenation)\n",
        "        result = []\n",
        "        for sequence in sequences:\n",
        "            seq_result = []\n",
        "            for head in range(self.n_heads):\n",
        "                q_mapping = self.q_mappings[head]\n",
        "                k_mapping = self.k_mappings[head]\n",
        "                v_mapping = self.v_mappings[head]\n",
        "\n",
        "                seq = sequence[:, head * self.d_head: (head + 1) * self.d_head]\n",
        "                q, k, v = q_mapping(seq), k_mapping(seq), v_mapping(seq)\n",
        "\n",
        "                attention = self.softmax(q @ k.T / (self.d_head ** 0.5))\n",
        "                seq_result.append(attention @ v)\n",
        "            result.append(torch.hstack(seq_result))\n",
        "        return torch.cat([torch.unsqueeze(r, dim=0) for r in result])"
      ],
      "metadata": {
        "id": "8IyfKRxUYPbL"
      },
      "execution_count": 20,
      "outputs": []
    },
    {
      "cell_type": "code",
      "source": [
        "class transformerEncoderBlock(nn.Module):\n",
        "  def __init__(self, hidden_d, n_heads, mlp_ratio=4):\n",
        "    super(transformerEncoderBlock, self).__init__()\n",
        "\n",
        "    self.n_heads = n_heads\n",
        "    self.hidden_d = hidden_d\n",
        "\n",
        "    self.lnorm = nn.LayerNorm(self.hidden_d)\n",
        "    self.mhsa = multiHeadSelfAttention(self.hidden_d, self.n_heads)\n",
        "\n",
        "    self.lnorm2 = nn.LayerNorm(self.hidden_d)\n",
        "    self.mlp = nn.Sequential(\n",
        "      nn.Linear(self.hidden_d, self.hidden_d*mlp_ratio),\n",
        "      nn.GELU(),\n",
        "      nn.Linear(self.hidden_d*mlp_ratio, self.hidden_d)\n",
        "    )\n",
        "\n",
        "  def forward(self, x):\n",
        "    output = x + self.mhsa(self.lnorm(x))\n",
        "    output = output + self.mlp(self.lnorm2(output))\n",
        "\n",
        "    return output"
      ],
      "metadata": {
        "id": "3Asyg2BAVW_4"
      },
      "execution_count": 21,
      "outputs": []
    },
    {
      "cell_type": "markdown",
      "source": [
        "**Final VIT class**"
      ],
      "metadata": {
        "id": "O8ksb2tKohCR"
      }
    },
    {
      "cell_type": "code",
      "source": [
        "'''\n",
        "hidden_d: dimension of the output of linear mapping\n",
        "'''\n",
        "\n",
        "class VIT(nn.Module):\n",
        "  def __init__(self, chw=(1, 28, 28), n_patches=7, n_blocks=2, hidden_d=8, n_heads=2, n_out=10):\n",
        "    super(VIT, self).__init__()\n",
        "\n",
        "    self.chw = chw\n",
        "    self.n_patches = n_patches\n",
        "    self.patch_size = (chw[1] // n_patches, chw[2] // n_patches)\n",
        "    self.n_blocks = n_blocks\n",
        "    self.n_heads = n_heads\n",
        "    self.hidden_d = hidden_d\n",
        "    print(chw)\n",
        "    assert chw[1]%n_patches==0, \"Input is not divisible by the number of patches\"\n",
        "    assert chw[2]%n_patches==0, \"Input is not divisible by the number of patches\"\n",
        "\n",
        "    ## Linear mapping\n",
        "    self.input_d = int(chw[0] * self.patch_size[0] * self.patch_size[1])\n",
        "    self.linear_mapper = nn.Linear(self.input_d, self.hidden_d)\n",
        "\n",
        "    ## Learnable classification token\n",
        "    self.class_token = nn.Parameter(torch.rand(1, self.hidden_d))\n",
        "\n",
        "    ## Positional embeddings\n",
        "    self.register_buffer('positional_embeddings', torch.from_numpy(get_positional_embeddings(n_patches ** 2 + 1, hidden_d)), persistent=False)\n",
        "\n",
        "    ## Transformer encoder blocks\n",
        "    self.blocks = nn.ModuleList([transformerEncoderBlock(self.hidden_d, self.n_heads) for _ in range(self.n_blocks)])\n",
        "\n",
        "    ## Classification MLPk\n",
        "    self.mlp = nn.Sequential(\n",
        "        nn.Linear(self.hidden_d, n_out),\n",
        "        nn.Softmax(dim=-1)\n",
        "    )\n",
        "\n",
        "  def forward(self, images):\n",
        "        # Dividing images into patches\n",
        "        n, c, h, w = images.shape\n",
        "        patches = torch.from_numpy(patchify(images, self.n_patches)).to(self.positional_embeddings.device)\n",
        "\n",
        "        # Running linear layer tokenization\n",
        "        # Map the vector corresponding to each patch to the hidden size dimension\n",
        "        print(patches.dtype)\n",
        "        patches = patches.float()\n",
        "        tokens = self.linear_mapper(patches)\n",
        "\n",
        "        # Adding classification token to the tokens\n",
        "        tokens = torch.cat((self.class_token.expand(n, 1, -1), tokens), dim=1)\n",
        "\n",
        "        # Adding positional embedding\n",
        "        out = tokens + self.positional_embeddings.repeat(n, 1, 1)\n",
        "\n",
        "        # Transformer Blocks\n",
        "        for block in self.blocks:\n",
        "            out = block(out)\n",
        "\n",
        "        # Getting the classification token only\n",
        "        out = out[:, 0]\n",
        "\n",
        "        return self.mlp(out) # Map to output dimension, output category distribution"
      ],
      "metadata": {
        "id": "6dscYtlMilK4"
      },
      "execution_count": 34,
      "outputs": []
    },
    {
      "cell_type": "markdown",
      "source": [
        "## Testing VIT"
      ],
      "metadata": {
        "id": "sfsOh1f_qICF"
      }
    },
    {
      "cell_type": "code",
      "source": [
        "transform = ToTensor()\n",
        "\n",
        "train_set = MNIST(root='./../datasets', train=True, download=True, transform=transform)\n",
        "test_set = MNIST(root='./../datasets', train=False, download=True, transform=transform)\n",
        "\n",
        "train_loader = DataLoader(train_set, shuffle=True, batch_size=128)\n",
        "test_loader = DataLoader(test_set, shuffle=False, batch_size=128)\n",
        "\n",
        "# Defining model and training options\n",
        "device = torch.device(\"cuda\" if torch.cuda.is_available() else \"cpu\")\n",
        "print(\"Using device: \", device, f\"({torch.cuda.get_device_name(device)})\" if torch.cuda.is_available() else \"\")\n",
        "model = VIT((1, 28, 28), n_patches=7, n_blocks=2, hidden_d=8, n_heads=2, n_out=10).to(device)\n",
        "N_EPOCHS = 5\n",
        "LR = 0.005\n",
        "\n",
        "# Training loop\n",
        "optimizer = Adam(model.parameters(), lr=LR)\n",
        "criterion = CrossEntropyLoss()\n",
        "for epoch in trange(N_EPOCHS, desc=\"Training\"):\n",
        "    train_loss = 0.0\n",
        "    for batch in tqdm(train_loader, desc=f\"Epoch {epoch + 1} in training\", leave=False):\n",
        "        x, y = batch\n",
        "        x, y = x.to(device), y.to(device)\n",
        "        y_hat = model(x)\n",
        "        loss = criterion(y_hat, y)\n",
        "\n",
        "        train_loss += loss.detach().cpu().item() / len(train_loader)\n",
        "\n",
        "        optimizer.zero_grad()\n",
        "        loss.backward()\n",
        "        optimizer.step()\n",
        "\n",
        "    print(f\"Epoch {epoch + 1}/{N_EPOCHS} loss: {train_loss:.2f}\")\n",
        "\n",
        "# Test loop\n",
        "with torch.no_grad():\n",
        "    correct, total = 0, 0\n",
        "    test_loss = 0.0\n",
        "    for batch in tqdm(test_loader, desc=\"Testing\"):\n",
        "        x, y = batch\n",
        "        x, y = x.to(device), y.to(device)\n",
        "        y_hat = model(x)\n",
        "        loss = criterion(y_hat, y)\n",
        "        test_loss += loss.detach().cpu().item() / len(test_loader)\n",
        "\n",
        "        correct += torch.sum(torch.argmax(y_hat, dim=1) == y).detach().cpu().item()\n",
        "        total += len(x)\n",
        "    print(f\"Test loss: {test_loss:.2f}\")\n",
        "    print(f\"Test accuracy: {correct / total * 100:.2f}%\")"
      ],
      "metadata": {
        "id": "x9KeWWKBplW8"
      },
      "execution_count": null,
      "outputs": []
    },
    {
      "cell_type": "code",
      "source": [],
      "metadata": {
        "id": "DZ2-90JwqXwc"
      },
      "execution_count": 27,
      "outputs": []
    },
    {
      "cell_type": "code",
      "source": [],
      "metadata": {
        "id": "YQcGZNOMp6CB"
      },
      "execution_count": null,
      "outputs": []
    }
  ]
}